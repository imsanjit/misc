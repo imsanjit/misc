{
  "nbformat": 4,
  "nbformat_minor": 0,
  "metadata": {
    "colab": {
      "name": "Get Meta Title And Description from urls",
      "version": "0.3.2",
      "provenance": []
    },
    "kernelspec": {
      "name": "python3",
      "display_name": "Python 3"
    }
  },
  "cells": [
    {
      "cell_type": "code",
      "metadata": {
        "id": "yYo7Z2zsl5-M",
        "colab_type": "code",
        "colab": {}
      },
      "source": [
        "import pandas as pd\n",
        "import requests\n",
        "from bs4 import BeautifulSoup\n",
        "import csv\n",
        "\n",
        "csv_file = open('meta.csv', 'w')\n",
        "csv_writer = csv.writer(csv_file)\n",
        "csv_writer.writerow(['URL', 'Title', 'Description'])\n",
        "\n",
        "url_in=input('Kindly Enter a url or list of urls sepatared by commams:  ').split(sep=' ')\n",
        "\n",
        "\n",
        "for x in url_in:\n",
        "  response=requests.get(x)\n",
        "  if response.status_code  == 200:\n",
        "    try:\n",
        "      html_soup = BeautifulSoup(response.text, 'html.parser')\n",
        "      metas = html_soup.find_all('meta')\n",
        "      title =html_soup.title.text.lstrip()\n",
        "      description = [ meta.attrs['content'] for meta in metas if 'name' in meta.attrs and meta.attrs['name'] == 'description' ]\n",
        "      csv_writer.writerow([x, title, description])\n",
        "    except:\n",
        "      pass\n",
        "\n",
        "\n",
        "csv_file.close()\n",
        "\n",
        "print('ALL DONE')"
      ],
      "execution_count": 0,
      "outputs": []
    }
  ]
}