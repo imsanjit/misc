{
 "cells": [
  {
   "cell_type": "code",
   "execution_count": null,
   "metadata": {},
   "outputs": [],
   "source": [
    "import pandas as pd\n",
    "import requests\n",
    "from bs4 import BeautifulSoup\n",
    "import csv\n",
    "\n",
    "\n",
    "df = pd.DataFrame(columns =['URLs', 'Title', 'Description'])\n",
    "\n",
    "url_in=input('Kindly Enter a url or list of urls sepatared by commams:  ').split(sep=' ')\n",
    "\n",
    "\n",
    "for x in url_in:\n",
    "    response=requests.get(x)\n",
    "    if response.status_code  == 200:\n",
    "        try: \n",
    "            html_soup = BeautifulSoup(response.text, 'html.parser')\n",
    "            metas = html_soup.find_all('meta')\n",
    "            title =html_soup.title.text.strip()\n",
    "            description = [ meta.attrs['content'] for meta in metas if 'name' in meta.attrs and meta.attrs['name'] == 'description' ]\n",
    "            description = description[0]\n",
    "            df = df.append({'URLs':x, 'Title':title, 'Description':description}, ignore_index = True)\n",
    "        except:\n",
    "            pass\n",
    "\n",
    "\n",
    "print(\"\\n\\nProcess completed\")"
   ]
  },
  {
   "cell_type": "code",
   "execution_count": null,
   "metadata": {},
   "outputs": [],
   "source": [
    "df.to_csv(\"metas.csv\", encoding='utf-8', index=False)\n",
    "print('\\nCSV file created')"
   ]
  }
 ],
 "metadata": {
  "kernelspec": {
   "display_name": "Python 3",
   "language": "python",
   "name": "python3"
  },
  "language_info": {
   "codemirror_mode": {
    "name": "ipython",
    "version": 3
   },
   "file_extension": ".py",
   "mimetype": "text/x-python",
   "name": "python",
   "nbconvert_exporter": "python",
   "pygments_lexer": "ipython3",
   "version": "3.7.4"
  }
 },
 "nbformat": 4,
 "nbformat_minor": 4
}
