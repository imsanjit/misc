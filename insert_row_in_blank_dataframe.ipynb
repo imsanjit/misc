{
  "nbformat": 4,
  "nbformat_minor": 0,
  "metadata": {
    "colab": {
      "name": "insert row in blank dataframe.ipynb",
      "provenance": []
    },
    "kernelspec": {
      "name": "python3",
      "display_name": "Python 3"
    }
  },
  "cells": [
    {
      "cell_type": "code",
      "metadata": {
        "id": "vSviLbZHMrrN",
        "colab_type": "code",
        "colab": {}
      },
      "source": [
        "#Mian programe\n",
        "import pandas as pd\n",
        "import requests\n",
        "import urllib.parse\n",
        "import json\n",
        "\n",
        "col = ['Score', 'First Contentful Paint', 'Speed Index', 'Time to Interactive',\\\n",
        "            'First Meaningful Paint', 'First CPU Idle', 'Max Potential First Input Delay']\n",
        "df = pd.DataFrame(columns=col)\n",
        "\n",
        "urls = input('Kindly Enter a url or list of urls sepatared by commams:  \\n').split(sep=' ')\n",
        "device_type = input('Choose your device type...mobile or desktop: \\n').lower()\n",
        "\n",
        "category = 'performance'\n",
        "\n",
        "for url in urls:\n",
        "  escaped_url = urllib.parse.quote(url)\n",
        "  contents = urllib.request.urlopen(\n",
        "    'https://www.googleapis.com/pagespeedonline/v5/runPagespeed?url={}&strategy={}&category={}'\\\n",
        "    .format(escaped_url, device_type, category)).read().decode('UTF-8')\n",
        "\n",
        "  data = json.loads(contents)\n",
        "  Score = data['lighthouseResult']['categories']['performance']['score']*100\n",
        "  first_contentful_paint = data['lighthouseResult']['audits']['first-contentful-paint']['displayValue']\n",
        "  Speed_Index = data['lighthouseResult']['audits']['speed-index']['displayValue']\n",
        "  interactive = data['lighthouseResult']['audits']['interactive']['displayValue']\n",
        "  first_meaningful_paint = data['lighthouseResult']['audits']['first-meaningful-paint']['displayValue']\n",
        "  First_CPU_Idle = data['lighthouseResult']['audits']['first-cpu-idle']['displayValue']\n",
        "  max_potential_fid = data['lighthouseResult']['audits']['max-potential-fid']['displayValue']\n",
        "\n",
        "  df.loc[url] = Score, first_contentful_paint, Speed_Index, interactive, first_meaningful_paint, First_CPU_Idle, max_potential_fid\n",
        "\n",
        "df"
      ],
      "execution_count": 0,
      "outputs": []
    }
  ]
}