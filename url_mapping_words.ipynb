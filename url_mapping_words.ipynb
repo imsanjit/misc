{
  "nbformat": 4,
  "nbformat_minor": 0,
  "metadata": {
    "colab": {
      "name": "url mapping words",
      "version": "0.3.2",
      "provenance": []
    },
    "kernelspec": {
      "name": "python3",
      "display_name": "Python 3"
    }
  },
  "cells": [
    {
      "cell_type": "code",
      "metadata": {
        "id": "gCDNOdBu6R1b",
        "colab_type": "code",
        "colab": {}
      },
      "source": [
        "import pandas as pd\n",
        "\n",
        "myurls = input(\"Enter your url here: \").split()\n",
        "\n",
        "df = pd.DataFrame({'url': [], 'Mapping_Words': []})\n",
        "\n",
        "for url in myurls:\n",
        "    s = []\n",
        "    url1 = url.split('/')[-1].replace(\".html\", \"\").replace(\"-for-\", \"-\").replace(\"-in-\", \"-\")\n",
        "    url1 = url1.replace('-',\" \").replace('home',\"\").replace('loan','').replace('bank','')\n",
        "    url1 = url1.replace(\"   \", \" \").replace(\"  \", \" \")\n",
        "    url1 = url1.strip()\n",
        "    word_list = s.append(url1)\n",
        "    df = df.append({'url': url, 'Mapping_Words': s}, ignore_index=True)\n",
        "    \n",
        "df"
      ],
      "execution_count": 0,
      "outputs": []
    }
  ]
}