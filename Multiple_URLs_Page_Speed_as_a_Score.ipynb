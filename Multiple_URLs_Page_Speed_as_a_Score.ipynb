{
  "nbformat": 4,
  "nbformat_minor": 0,
  "metadata": {
    "colab": {
      "name": "Multiple URLs Speed page as a Score.ipynb",
      "provenance": [],
      "collapsed_sections": [],
      "include_colab_link": true
    },
    "kernelspec": {
      "name": "python3",
      "display_name": "Python 3"
    }
  },
  "cells": [
    {
      "cell_type": "markdown",
      "metadata": {
        "id": "view-in-github",
        "colab_type": "text"
      },
      "source": [
        "<a href=\"https://colab.research.google.com/github/imsanjit/misc/blob/master/Multiple_URLs_Speed_page_as_a_Score.ipynb\" target=\"_parent\"><img src=\"https://colab.research.google.com/assets/colab-badge.svg\" alt=\"Open In Colab\"/></a>"
      ]
    },
    {
      "cell_type": "code",
      "metadata": {
        "id": "8zmEL58MVH5F",
        "colab_type": "code",
        "colab": {}
      },
      "source": [
        "import pandas as pd\n",
        "import requests\n",
        "import urllib.parse\n",
        "import json\n",
        "import validators\n",
        "\n",
        "urls = input('Kindly Enter a url or list of urls sepatared by commams:  \\n').split(sep=' ')\n",
        "device_type = input('Choose your device type...mobile or desktop: \\n' ).lower()\n",
        "\n",
        "for url in urls:\n",
        "  if validators.url(url) == True:\n",
        "    response=requests.get(url)\n",
        "    if response.status_code  != 200:\n",
        "      print(f'{url} -->> {response.status_code}')\n",
        "    else:\n",
        "      try:\n",
        "        escaped_url = urllib.parse.quote(url)\n",
        "        category = 'performance'\n",
        "        contents = urllib.request.urlopen('https://www.googleapis.com/pagespeedonline/v5/runPagespeed?url={}&strategy={}&category={}'\\\n",
        "                                              .format(escaped_url, device_type, category)).read().decode('UTF-8')\n",
        "        data = json.loads(contents)\n",
        "        Score = data['lighthouseResult']['categories']['performance']['score']*100\n",
        "        print(f'{url} -->> Score {round(Score)}')\n",
        "      except:\n",
        "        pass\n",
        "  else:\n",
        "    print(f'{url} -->> Not a url')\n",
        "\n",
        "print('Everthing is DONE')"
      ],
      "execution_count": 0,
      "outputs": []
    }
  ]
}
