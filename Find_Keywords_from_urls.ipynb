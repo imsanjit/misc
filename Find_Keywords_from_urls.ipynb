{
 "cells": [
  {
   "cell_type": "code",
   "execution_count": null,
   "metadata": {},
   "outputs": [],
   "source": [
    "import pandas as pd\n",
    "import requests\n",
    "from bs4 import BeautifulSoup\n",
    "import csv\n",
    "\n",
    "\n",
    "df = pd.DataFrame(columns =['URLs', 'Status'])\n",
    "\n",
    "url_in=input('Kindly Enter a url or list of urls sepatared by commams:  ').split(sep=' ')\n",
    "\n",
    "pattern = 'faq' # add seach word here\n",
    "\n",
    "for x in url_in:\n",
    "    response=requests.get(x)\n",
    "    if response.status_code  == 200:\n",
    "        try: \n",
    "            html_soup = BeautifulSoup(response.text, 'html.parser')\n",
    "            pattern_find = html_soup.find_all(string=re.compile(pattern, re.IGNORECASE))\n",
    "            if len(pattern_find) == 0:\n",
    "                print(f'{x}: not found')\n",
    "                df = df.append({'URLs':x, 'Status':'Not Found'}, ignore_index = True)\n",
    "            else:\n",
    "                print(f'{x}: found {len(pattern_find)} times')\n",
    "                df = df.append({'URLs':x, 'Status':f'Found {len(pattern_find)} times'}, ignore_index = True)\n",
    "        except:\n",
    "            pass\n",
    "\n",
    "\n",
    "print(\"\\n\\nProcess completed\")"
   ]
  },
  {
   "cell_type": "code",
   "execution_count": null,
   "metadata": {},
   "outputs": [],
   "source": [
    "df.to_csv(\"Finding_keywords.csv\", encoding='utf-8', index=False)\n",
    "print('\\nCSV file created')"
   ]
  }
 ],
 "metadata": {
  "kernelspec": {
   "display_name": "Python 3",
   "language": "python",
   "name": "python3"
  },
  "language_info": {
   "codemirror_mode": {
    "name": "ipython",
    "version": 3
   },
   "file_extension": ".py",
   "mimetype": "text/x-python",
   "name": "python",
   "nbconvert_exporter": "python",
   "pygments_lexer": "ipython3",
   "version": "3.7.4"
  }
 },
 "nbformat": 4,
 "nbformat_minor": 2
}
