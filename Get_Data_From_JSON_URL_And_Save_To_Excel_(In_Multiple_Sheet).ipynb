{
  "nbformat": 4,
  "nbformat_minor": 0,
  "metadata": {
    "colab": {
      "name": "Get Data From JSON URL And Save To Excel (In Multiple Sheet) ",
      "version": "0.3.2",
      "provenance": [],
      "collapsed_sections": []
    },
    "kernelspec": {
      "name": "python3",
      "display_name": "Python 3"
    }
  },
  "cells": [
    {
      "cell_type": "code",
      "metadata": {
        "id": "AMbXBvcoMX3U",
        "colab_type": "code",
        "colab": {}
      },
      "source": [
        "#importing required liabrary\n",
        "import pandas as pd\n",
        "import json\n",
        "from urllib.request import urlopen\n",
        "import xlsxwriter\n",
        "from google.colab import files\n",
        "\n",
        "#Creating Excel File\n",
        "writer = pd.ExcelWriter('MyData.xlsx', engine = 'xlsxwriter')\n",
        "\n",
        "#getting input from use in tab separated formate \n",
        "namespace = input('Kindly Enter a namespace or list of namespace separated by tab:  ').split(sep=' ')\n",
        "\n",
        "#DataFrame for Error Handling\n",
        "error_data = [['url not exists'], ['or data not available']]\n",
        "er_df = pd.DataFrame(error_data, columns = ['Error'])\n",
        "\n",
        "#Creating blank list for column names and data\n",
        "sh_name = []\n",
        "dfs = []\n",
        "\n",
        "#Creating tab/sheet name\n",
        "for pagename in namespace:\n",
        "  if \"/\" in pagename: \n",
        "    sh = pagename.split('/')[-1]\n",
        "    sh_name.append(sh)\n",
        "  else:\n",
        "    sh_name.append(pagename)\n",
        "\n",
        "#Creating url and getting data from url    \n",
        "  url = \"https://www.xyz.com/fetchCommodityPriceHistory.html?landingPageNamespace=\"+pagename+\"&daysCount=30\"\n",
        "  print(url)\n",
        "  try:\n",
        "    response =  urlopen(url)\n",
        "    source = response.read()\n",
        "    data = json.loads(source)\n",
        "    df = pd.DataFrame.from_dict(data, orient='columns')\n",
        "    dfs.append(df)\n",
        "  except:\n",
        "    dfs.append(er_df)\n",
        "\n",
        "#Populating data in respective sheets\n",
        "for df, sheet in zip(dfs, sh_name):\n",
        "  df.to_excel(writer, sheet_name= sheet, startrow=0 , startcol=1,)\n",
        "\n",
        "#Saving and Downloading Excel file\n",
        "writer.save()\n",
        "files.download('MyData.xlsx')\n",
        "print('Process Completed.')"
      ],
      "execution_count": 0,
      "outputs": []
    }
  ]
}
